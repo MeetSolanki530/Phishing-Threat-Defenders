{
 "cells": [
  {
   "cell_type": "code",
   "execution_count": 1,
   "id": "6c514279",
   "metadata": {},
   "outputs": [],
   "source": [
    "# importing some necessary libraries\n",
    "import pandas as pd\n",
    "import numpy as np\n",
    "import matplotlib.pyplot as plt\n",
    "%matplotlib inline\n",
    "import seaborn as sns  \n",
    "\n",
    "from sklearn.metrics import classification_report\n",
    "from sklearn.metrics import confusion_matrix\n",
    "from nltk.tokenize import RegexpTokenizer  \n",
    "from nltk.stem.snowball import SnowballStemmer\n",
    "from sklearn.feature_extraction.text import CountVectorizer  \n",
    "from sklearn.pipeline import make_pipeline\n",
    "\n",
    "import pickle "
   ]
  },
  {
   "cell_type": "code",
   "execution_count": 2,
   "id": "daf1cef4",
   "metadata": {},
   "outputs": [],
   "source": [
    "# Loading the dataset\n",
    "df= pd.read_csv(\"urldata.csv\")"
   ]
  },
  {
   "cell_type": "code",
   "execution_count": 3,
   "id": "a7ba6b3e",
   "metadata": {},
   "outputs": [
    {
     "data": {
      "text/html": [
       "<div>\n",
       "<style scoped>\n",
       "    .dataframe tbody tr th:only-of-type {\n",
       "        vertical-align: middle;\n",
       "    }\n",
       "\n",
       "    .dataframe tbody tr th {\n",
       "        vertical-align: top;\n",
       "    }\n",
       "\n",
       "    .dataframe thead th {\n",
       "        text-align: right;\n",
       "    }\n",
       "</style>\n",
       "<table border=\"1\" class=\"dataframe\">\n",
       "  <thead>\n",
       "    <tr style=\"text-align: right;\">\n",
       "      <th></th>\n",
       "      <th>url</th>\n",
       "      <th>label</th>\n",
       "    </tr>\n",
       "  </thead>\n",
       "  <tbody>\n",
       "    <tr>\n",
       "      <th>0</th>\n",
       "      <td>https://www.google.com</td>\n",
       "      <td>benign</td>\n",
       "    </tr>\n",
       "    <tr>\n",
       "      <th>1</th>\n",
       "      <td>https://www.youtube.com</td>\n",
       "      <td>benign</td>\n",
       "    </tr>\n",
       "    <tr>\n",
       "      <th>2</th>\n",
       "      <td>https://www.facebook.com</td>\n",
       "      <td>benign</td>\n",
       "    </tr>\n",
       "    <tr>\n",
       "      <th>3</th>\n",
       "      <td>https://www.baidu.com</td>\n",
       "      <td>benign</td>\n",
       "    </tr>\n",
       "    <tr>\n",
       "      <th>4</th>\n",
       "      <td>https://www.wikipedia.org</td>\n",
       "      <td>benign</td>\n",
       "    </tr>\n",
       "  </tbody>\n",
       "</table>\n",
       "</div>"
      ],
      "text/plain": [
       "                         url   label\n",
       "0     https://www.google.com  benign\n",
       "1    https://www.youtube.com  benign\n",
       "2   https://www.facebook.com  benign\n",
       "3      https://www.baidu.com  benign\n",
       "4  https://www.wikipedia.org  benign"
      ]
     },
     "execution_count": 3,
     "metadata": {},
     "output_type": "execute_result"
    }
   ],
   "source": [
    "df.head() # Displaying the first few rows of the dataset"
   ]
  },
  {
   "cell_type": "code",
   "execution_count": 4,
   "id": "3c4a1a08",
   "metadata": {},
   "outputs": [
    {
     "name": "stdout",
     "output_type": "stream",
     "text": [
      "<class 'pandas.core.frame.DataFrame'>\n",
      "RangeIndex: 450679 entries, 0 to 450678\n",
      "Data columns (total 2 columns):\n",
      " #   Column  Non-Null Count   Dtype \n",
      "---  ------  --------------   ----- \n",
      " 0   url     450679 non-null  object\n",
      " 1   label   450679 non-null  object\n",
      "dtypes: object(2)\n",
      "memory usage: 6.9+ MB\n"
     ]
    }
   ],
   "source": [
    "# Displaying information about the dataset, including data types and missing values\n",
    "df.info() "
   ]
  },
  {
   "cell_type": "code",
   "execution_count": 5,
   "id": "ba76fd02",
   "metadata": {},
   "outputs": [
    {
     "data": {
      "text/plain": [
       "(450679, 2)"
      ]
     },
     "execution_count": 5,
     "metadata": {},
     "output_type": "execute_result"
    }
   ],
   "source": [
    "df.shape # Getting the shape (number of rows and columns) of the dataset"
   ]
  },
  {
   "cell_type": "code",
   "execution_count": 6,
   "id": "610b3f25",
   "metadata": {},
   "outputs": [
    {
     "data": {
      "text/plain": [
       "url      0\n",
       "label    0\n",
       "dtype: int64"
      ]
     },
     "execution_count": 6,
     "metadata": {},
     "output_type": "execute_result"
    }
   ],
   "source": [
    "# Checking for missing values in the dataset\n",
    "df.isnull().sum()"
   ]
  },
  {
   "cell_type": "code",
   "execution_count": 7,
   "id": "8dbbad32",
   "metadata": {},
   "outputs": [
    {
     "data": {
      "text/plain": [
       "<AxesSubplot:xlabel='label', ylabel='count'>"
      ]
     },
     "execution_count": 7,
     "metadata": {},
     "output_type": "execute_result"
    },
    {
     "data": {
      "image/png": "[encoded data removed]",
      "text/plain": [
       "<Figure size 640x480 with 1 Axes>"
      ]
     },
     "metadata": {},
     "output_type": "display_data"
    }
   ],
   "source": [
    "sns.countplot(x=\"label\",data=df) # Creating a countplot to visualize the distribution of 'Label' in the dataset"
   ]
  },
  {
   "cell_type": "markdown",
   "id": "d03d6ddb",
   "metadata": {},
   "source": [
    "# Tokenizing the URL strings using a regular expression tokenizer"
   ]
  },
  {
   "cell_type": "code",
   "execution_count": 8,
   "id": "d25938ae",
   "metadata": {},
   "outputs": [],
   "source": [
    "tokenizer = RegexpTokenizer(r'[A-Za-z]+')"
   ]
  },
  {
   "cell_type": "code",
   "execution_count": 9,
   "id": "9a3504a2",
   "metadata": {},
   "outputs": [
    {
     "data": {
      "text/plain": [
       "['https', 'www', 'google', 'com']"
      ]
     },
     "execution_count": 9,
     "metadata": {},
     "output_type": "execute_result"
    }
   ],
   "source": [
    "tokenizer.tokenize(df.url[0])"
   ]
  },
  {
   "cell_type": "code",
   "execution_count": 10,
   "id": "e00820ec",
   "metadata": {},
   "outputs": [
    {
     "name": "stdout",
     "output_type": "stream",
     "text": [
      "Getting words tokenized ...\n"
     ]
    }
   ],
   "source": [
    "# Tokenizing all the URL strings in the dataset\n",
    "print('Getting words tokenized ...')\n",
    "df['text_tokenized'] = df.url.map(lambda t: tokenizer.tokenize(t))"
   ]
  },
  {
   "cell_type": "code",
   "execution_count": 11,
   "id": "acce1dc0",
   "metadata": {},
   "outputs": [
    {
     "data": {
      "text/html": [
       "<div>\n",
       "<style scoped>\n",
       "    .dataframe tbody tr th:only-of-type {\n",
       "        vertical-align: middle;\n",
       "    }\n",
       "\n",
       "    .dataframe tbody tr th {\n",
       "        vertical-align: top;\n",
       "    }\n",
       "\n",
       "    .dataframe thead th {\n",
       "        text-align: right;\n",
       "    }\n",
       "</style>\n",
       "<table border=\"1\" class=\"dataframe\">\n",
       "  <thead>\n",
       "    <tr style=\"text-align: right;\">\n",
       "      <th></th>\n",
       "      <th>url</th>\n",
       "      <th>label</th>\n",
       "      <th>text_tokenized</th>\n",
       "    </tr>\n",
       "  </thead>\n",
       "  <tbody>\n",
       "    <tr>\n",
       "      <th>145107</th>\n",
       "      <td>https://www.awesome80s.com/Awesome80s/Sports/N...</td>\n",
       "      <td>benign</td>\n",
       "      <td>[https, www, awesome, s, com, Awesome, s, Spor...</td>\n",
       "    </tr>\n",
       "    <tr>\n",
       "      <th>110736</th>\n",
       "      <td>https://www.txgenweb4.org/txorange/births/1908...</td>\n",
       "      <td>benign</td>\n",
       "      <td>[https, www, txgenweb, org, txorange, births, ...</td>\n",
       "    </tr>\n",
       "    <tr>\n",
       "      <th>82846</th>\n",
       "      <td>https://www.openjurist.org/438/f2d/1194/mangol...</td>\n",
       "      <td>benign</td>\n",
       "      <td>[https, www, openjurist, org, f, d, mangold, v...</td>\n",
       "    </tr>\n",
       "    <tr>\n",
       "      <th>359331</th>\n",
       "      <td>http://ljefckei7-site.ctempurl.com/wfb/oam/Hom...</td>\n",
       "      <td>malicious</td>\n",
       "      <td>[http, ljefckei, site, ctempurl, com, wfb, oam...</td>\n",
       "    </tr>\n",
       "    <tr>\n",
       "      <th>123310</th>\n",
       "      <td>https://www.123people.com/s/william+bierlein</td>\n",
       "      <td>benign</td>\n",
       "      <td>[https, www, people, com, s, william, bierlein]</td>\n",
       "    </tr>\n",
       "  </tbody>\n",
       "</table>\n",
       "</div>"
      ],
      "text/plain": [
       "                                                      url      label  \\\n",
       "145107  https://www.awesome80s.com/Awesome80s/Sports/N...     benign   \n",
       "110736  https://www.txgenweb4.org/txorange/births/1908...     benign   \n",
       "82846   https://www.openjurist.org/438/f2d/1194/mangol...     benign   \n",
       "359331  http://ljefckei7-site.ctempurl.com/wfb/oam/Hom...  malicious   \n",
       "123310       https://www.123people.com/s/william+bierlein     benign   \n",
       "\n",
       "                                           text_tokenized  \n",
       "145107  [https, www, awesome, s, com, Awesome, s, Spor...  \n",
       "110736  [https, www, txgenweb, org, txorange, births, ...  \n",
       "82846   [https, www, openjurist, org, f, d, mangold, v...  \n",
       "359331  [http, ljefckei, site, ctempurl, com, wfb, oam...  \n",
       "123310    [https, www, people, com, s, william, bierlein]  "
      ]
     },
     "execution_count": 11,
     "metadata": {},
     "output_type": "execute_result"
    }
   ],
   "source": [
    "df.sample(5)"
   ]
  },
  {
   "cell_type": "code",
   "execution_count": 12,
   "id": "d2505755",
   "metadata": {},
   "outputs": [],
   "source": [
    "# Applying Snowball stemming to the tokenized words\n",
    "stemmer = SnowballStemmer(\"english\") # choose a language"
   ]
  },
  {
   "cell_type": "code",
   "execution_count": 13,
   "id": "c842983f",
   "metadata": {},
   "outputs": [
    {
     "name": "stdout",
     "output_type": "stream",
     "text": [
      "Getting words stemmed ...\n"
     ]
    }
   ],
   "source": [
    "# Getting all the stemmed words\n",
    "print('Getting words stemmed ...')\n",
    "df['text_stemmed'] = df['text_tokenized'].map(lambda l: [stemmer.stem(word) for word in l])"
   ]
  },
  {
   "cell_type": "code",
   "execution_count": 14,
   "id": "e2707cb9",
   "metadata": {},
   "outputs": [
    {
     "data": {
      "text/html": [
       "<div>\n",
       "<style scoped>\n",
       "    .dataframe tbody tr th:only-of-type {\n",
       "        vertical-align: middle;\n",
       "    }\n",
       "\n",
       "    .dataframe tbody tr th {\n",
       "        vertical-align: top;\n",
       "    }\n",
       "\n",
       "    .dataframe thead th {\n",
       "        text-align: right;\n",
       "    }\n",
       "</style>\n",
       "<table border=\"1\" class=\"dataframe\">\n",
       "  <thead>\n",
       "    <tr style=\"text-align: right;\">\n",
       "      <th></th>\n",
       "      <th>url</th>\n",
       "      <th>label</th>\n",
       "      <th>text_tokenized</th>\n",
       "      <th>text_stemmed</th>\n",
       "    </tr>\n",
       "  </thead>\n",
       "  <tbody>\n",
       "    <tr>\n",
       "      <th>250051</th>\n",
       "      <td>https://www.montrealeroticservices.com/ad-cate...</td>\n",
       "      <td>benign</td>\n",
       "      <td>[https, www, montrealeroticservices, com, ad, ...</td>\n",
       "      <td>[https, www, montrealeroticservic, com, ad, ca...</td>\n",
       "    </tr>\n",
       "    <tr>\n",
       "      <th>434081</th>\n",
       "      <td>http://windfellows.org/administrator/modules/m...</td>\n",
       "      <td>malicious</td>\n",
       "      <td>[http, windfellows, org, administrator, module...</td>\n",
       "      <td>[http, windfellow, org, administr, modul, mod,...</td>\n",
       "    </tr>\n",
       "    <tr>\n",
       "      <th>256254</th>\n",
       "      <td>https://www.mylife.com/ricothomas</td>\n",
       "      <td>benign</td>\n",
       "      <td>[https, www, mylife, com, ricothomas]</td>\n",
       "      <td>[https, www, mylif, com, ricothoma]</td>\n",
       "    </tr>\n",
       "    <tr>\n",
       "      <th>12645</th>\n",
       "      <td>https://www.business.kellysearch.com/</td>\n",
       "      <td>benign</td>\n",
       "      <td>[https, www, business, kellysearch, com]</td>\n",
       "      <td>[https, www, busi, kellysearch, com]</td>\n",
       "    </tr>\n",
       "    <tr>\n",
       "      <th>149673</th>\n",
       "      <td>https://www.biblioz.com/fi25761643.html</td>\n",
       "      <td>benign</td>\n",
       "      <td>[https, www, biblioz, com, fi, html]</td>\n",
       "      <td>[https, www, biblioz, com, fi, html]</td>\n",
       "    </tr>\n",
       "  </tbody>\n",
       "</table>\n",
       "</div>"
      ],
      "text/plain": [
       "                                                      url      label  \\\n",
       "250051  https://www.montrealeroticservices.com/ad-cate...     benign   \n",
       "434081  http://windfellows.org/administrator/modules/m...  malicious   \n",
       "256254                  https://www.mylife.com/ricothomas     benign   \n",
       "12645               https://www.business.kellysearch.com/     benign   \n",
       "149673            https://www.biblioz.com/fi25761643.html     benign   \n",
       "\n",
       "                                           text_tokenized  \\\n",
       "250051  [https, www, montrealeroticservices, com, ad, ...   \n",
       "434081  [http, windfellows, org, administrator, module...   \n",
       "256254              [https, www, mylife, com, ricothomas]   \n",
       "12645            [https, www, business, kellysearch, com]   \n",
       "149673               [https, www, biblioz, com, fi, html]   \n",
       "\n",
       "                                             text_stemmed  \n",
       "250051  [https, www, montrealeroticservic, com, ad, ca...  \n",
       "434081  [http, windfellow, org, administr, modul, mod,...  \n",
       "256254                [https, www, mylif, com, ricothoma]  \n",
       "12645                [https, www, busi, kellysearch, com]  \n",
       "149673               [https, www, biblioz, com, fi, html]  "
      ]
     },
     "execution_count": 14,
     "metadata": {},
     "output_type": "execute_result"
    }
   ],
   "source": [
    "df.sample(5)"
   ]
  },
  {
   "cell_type": "code",
   "execution_count": 15,
   "id": "b468aeb5",
   "metadata": {},
   "outputs": [
    {
     "name": "stdout",
     "output_type": "stream",
     "text": [
      "Get joiningwords ...\n"
     ]
    }
   ],
   "source": [
    "# Stemming all the tokenized words in the dataset\n",
    "print('Get joiningwords ...')\n",
    "df['text_sent'] = df['text_stemmed'].map(lambda l: ' '.join(l))"
   ]
  },
  {
   "cell_type": "code",
   "execution_count": 16,
   "id": "2c243965",
   "metadata": {},
   "outputs": [
    {
     "data": {
      "text/html": [
       "<div>\n",
       "<style scoped>\n",
       "    .dataframe tbody tr th:only-of-type {\n",
       "        vertical-align: middle;\n",
       "    }\n",
       "\n",
       "    .dataframe tbody tr th {\n",
       "        vertical-align: top;\n",
       "    }\n",
       "\n",
       "    .dataframe thead th {\n",
       "        text-align: right;\n",
       "    }\n",
       "</style>\n",
       "<table border=\"1\" class=\"dataframe\">\n",
       "  <thead>\n",
       "    <tr style=\"text-align: right;\">\n",
       "      <th></th>\n",
       "      <th>url</th>\n",
       "      <th>label</th>\n",
       "      <th>text_tokenized</th>\n",
       "      <th>text_stemmed</th>\n",
       "      <th>text_sent</th>\n",
       "    </tr>\n",
       "  </thead>\n",
       "  <tbody>\n",
       "    <tr>\n",
       "      <th>356748</th>\n",
       "      <td>http://everydaycareer.com/wp-content/uploads/i...</td>\n",
       "      <td>malicious</td>\n",
       "      <td>[http, everydaycareer, com, wp, content, uploa...</td>\n",
       "      <td>[http, everydaycar, com, wp, content, upload, ...</td>\n",
       "      <td>http everydaycar com wp content upload index f...</td>\n",
       "    </tr>\n",
       "    <tr>\n",
       "      <th>136719</th>\n",
       "      <td>https://www.amazon.com/phrase/Billy-Barlow</td>\n",
       "      <td>benign</td>\n",
       "      <td>[https, www, amazon, com, phrase, Billy, Barlow]</td>\n",
       "      <td>[https, www, amazon, com, phrase, billi, barlow]</td>\n",
       "      <td>https www amazon com phrase billi barlow</td>\n",
       "    </tr>\n",
       "    <tr>\n",
       "      <th>187727</th>\n",
       "      <td>https://www.facebook.com/pages/Dru-Down/105546...</td>\n",
       "      <td>benign</td>\n",
       "      <td>[https, www, facebook, com, pages, Dru, Down]</td>\n",
       "      <td>[https, www, facebook, com, page, dru, down]</td>\n",
       "      <td>https www facebook com page dru down</td>\n",
       "    </tr>\n",
       "    <tr>\n",
       "      <th>267206</th>\n",
       "      <td>https://www.obraarchitects.com/</td>\n",
       "      <td>benign</td>\n",
       "      <td>[https, www, obraarchitects, com]</td>\n",
       "      <td>[https, www, obraarchitect, com]</td>\n",
       "      <td>https www obraarchitect com</td>\n",
       "    </tr>\n",
       "    <tr>\n",
       "      <th>59695</th>\n",
       "      <td>https://www.investing.businessweek.com/researc...</td>\n",
       "      <td>benign</td>\n",
       "      <td>[https, www, investing, businessweek, com, res...</td>\n",
       "      <td>[https, www, invest, businessweek, com, resear...</td>\n",
       "      <td>https www invest businessweek com research sto...</td>\n",
       "    </tr>\n",
       "  </tbody>\n",
       "</table>\n",
       "</div>"
      ],
      "text/plain": [
       "                                                      url      label  \\\n",
       "356748  http://everydaycareer.com/wp-content/uploads/i...  malicious   \n",
       "136719         https://www.amazon.com/phrase/Billy-Barlow     benign   \n",
       "187727  https://www.facebook.com/pages/Dru-Down/105546...     benign   \n",
       "267206                    https://www.obraarchitects.com/     benign   \n",
       "59695   https://www.investing.businessweek.com/researc...     benign   \n",
       "\n",
       "                                           text_tokenized  \\\n",
       "356748  [http, everydaycareer, com, wp, content, uploa...   \n",
       "136719   [https, www, amazon, com, phrase, Billy, Barlow]   \n",
       "187727      [https, www, facebook, com, pages, Dru, Down]   \n",
       "267206                  [https, www, obraarchitects, com]   \n",
       "59695   [https, www, investing, businessweek, com, res...   \n",
       "\n",
       "                                             text_stemmed  \\\n",
       "356748  [http, everydaycar, com, wp, content, upload, ...   \n",
       "136719   [https, www, amazon, com, phrase, billi, barlow]   \n",
       "187727       [https, www, facebook, com, page, dru, down]   \n",
       "267206                   [https, www, obraarchitect, com]   \n",
       "59695   [https, www, invest, businessweek, com, resear...   \n",
       "\n",
       "                                                text_sent  \n",
       "356748  http everydaycar com wp content upload index f...  \n",
       "136719           https www amazon com phrase billi barlow  \n",
       "187727               https www facebook com page dru down  \n",
       "267206                        https www obraarchitect com  \n",
       "59695   https www invest businessweek com research sto...  "
      ]
     },
     "execution_count": 16,
     "metadata": {},
     "output_type": "execute_result"
    }
   ],
   "source": [
    "df.sample(5)"
   ]
  },
  {
   "cell_type": "code",
   "execution_count": 17,
   "id": "ae5da653",
   "metadata": {},
   "outputs": [],
   "source": [
    "# Creating separate DataFrames for 'bad' and 'good' sites\n",
    "bad_sites = df[df.label == 'malicious']\n",
    "good_sites = df[df.label == 'benign']"
   ]
  },
  {
   "cell_type": "code",
   "execution_count": 18,
   "id": "0a0f0de1",
   "metadata": {},
   "outputs": [
    {
     "data": {
      "text/html": [
       "<div>\n",
       "<style scoped>\n",
       "    .dataframe tbody tr th:only-of-type {\n",
       "        vertical-align: middle;\n",
       "    }\n",
       "\n",
       "    .dataframe tbody tr th {\n",
       "        vertical-align: top;\n",
       "    }\n",
       "\n",
       "    .dataframe thead th {\n",
       "        text-align: right;\n",
       "    }\n",
       "</style>\n",
       "<table border=\"1\" class=\"dataframe\">\n",
       "  <thead>\n",
       "    <tr style=\"text-align: right;\">\n",
       "      <th></th>\n",
       "      <th>url</th>\n",
       "      <th>label</th>\n",
       "      <th>text_tokenized</th>\n",
       "      <th>text_stemmed</th>\n",
       "      <th>text_sent</th>\n",
       "    </tr>\n",
       "  </thead>\n",
       "  <tbody>\n",
       "    <tr>\n",
       "      <th>345738</th>\n",
       "      <td>http://atualizacaodedados.online</td>\n",
       "      <td>malicious</td>\n",
       "      <td>[http, atualizacaodedados, online]</td>\n",
       "      <td>[http, atualizacaodedado, onlin]</td>\n",
       "      <td>http atualizacaodedado onlin</td>\n",
       "    </tr>\n",
       "    <tr>\n",
       "      <th>345739</th>\n",
       "      <td>http://webmasteradmin.ukit.me/</td>\n",
       "      <td>malicious</td>\n",
       "      <td>[http, webmasteradmin, ukit, me]</td>\n",
       "      <td>[http, webmasteradmin, ukit, me]</td>\n",
       "      <td>http webmasteradmin ukit me</td>\n",
       "    </tr>\n",
       "    <tr>\n",
       "      <th>345740</th>\n",
       "      <td>http://stcdxmt.bigperl.in/klxtv/apps/uk/</td>\n",
       "      <td>malicious</td>\n",
       "      <td>[http, stcdxmt, bigperl, in, klxtv, apps, uk]</td>\n",
       "      <td>[http, stcdxmt, bigperl, in, klxtv, app, uk]</td>\n",
       "      <td>http stcdxmt bigperl in klxtv app uk</td>\n",
       "    </tr>\n",
       "    <tr>\n",
       "      <th>345741</th>\n",
       "      <td>https://tubuh-syarikat.com/plugins/fields/files/</td>\n",
       "      <td>malicious</td>\n",
       "      <td>[https, tubuh, syarikat, com, plugins, fields,...</td>\n",
       "      <td>[https, tubuh, syarikat, com, plugin, field, f...</td>\n",
       "      <td>https tubuh syarikat com plugin field file</td>\n",
       "    </tr>\n",
       "    <tr>\n",
       "      <th>345742</th>\n",
       "      <td>http://rolyborgesmd.com/exceword/excel.php?.ra...</td>\n",
       "      <td>malicious</td>\n",
       "      <td>[http, rolyborgesmd, com, exceword, excel, php...</td>\n",
       "      <td>[http, rolyborgesmd, com, exceword, excel, php...</td>\n",
       "      <td>http rolyborgesmd com exceword excel php rand ...</td>\n",
       "    </tr>\n",
       "  </tbody>\n",
       "</table>\n",
       "</div>"
      ],
      "text/plain": [
       "                                                      url      label  \\\n",
       "345738                   http://atualizacaodedados.online  malicious   \n",
       "345739                     http://webmasteradmin.ukit.me/  malicious   \n",
       "345740           http://stcdxmt.bigperl.in/klxtv/apps/uk/  malicious   \n",
       "345741   https://tubuh-syarikat.com/plugins/fields/files/  malicious   \n",
       "345742  http://rolyborgesmd.com/exceword/excel.php?.ra...  malicious   \n",
       "\n",
       "                                           text_tokenized  \\\n",
       "345738                 [http, atualizacaodedados, online]   \n",
       "345739                   [http, webmasteradmin, ukit, me]   \n",
       "345740      [http, stcdxmt, bigperl, in, klxtv, apps, uk]   \n",
       "345741  [https, tubuh, syarikat, com, plugins, fields,...   \n",
       "345742  [http, rolyborgesmd, com, exceword, excel, php...   \n",
       "\n",
       "                                             text_stemmed  \\\n",
       "345738                   [http, atualizacaodedado, onlin]   \n",
       "345739                   [http, webmasteradmin, ukit, me]   \n",
       "345740       [http, stcdxmt, bigperl, in, klxtv, app, uk]   \n",
       "345741  [https, tubuh, syarikat, com, plugin, field, f...   \n",
       "345742  [http, rolyborgesmd, com, exceword, excel, php...   \n",
       "\n",
       "                                                text_sent  \n",
       "345738                       http atualizacaodedado onlin  \n",
       "345739                        http webmasteradmin ukit me  \n",
       "345740               http stcdxmt bigperl in klxtv app uk  \n",
       "345741         https tubuh syarikat com plugin field file  \n",
       "345742  http rolyborgesmd com exceword excel php rand ...  "
      ]
     },
     "execution_count": 18,
     "metadata": {},
     "output_type": "execute_result"
    }
   ],
   "source": [
    "bad_sites.head()"
   ]
  },
  {
   "cell_type": "code",
   "execution_count": 19,
   "id": "f0cc9fdf",
   "metadata": {},
   "outputs": [
    {
     "data": {
      "text/html": [
       "<div>\n",
       "<style scoped>\n",
       "    .dataframe tbody tr th:only-of-type {\n",
       "        vertical-align: middle;\n",
       "    }\n",
       "\n",
       "    .dataframe tbody tr th {\n",
       "        vertical-align: top;\n",
       "    }\n",
       "\n",
       "    .dataframe thead th {\n",
       "        text-align: right;\n",
       "    }\n",
       "</style>\n",
       "<table border=\"1\" class=\"dataframe\">\n",
       "  <thead>\n",
       "    <tr style=\"text-align: right;\">\n",
       "      <th></th>\n",
       "      <th>url</th>\n",
       "      <th>label</th>\n",
       "      <th>text_tokenized</th>\n",
       "      <th>text_stemmed</th>\n",
       "      <th>text_sent</th>\n",
       "    </tr>\n",
       "  </thead>\n",
       "  <tbody>\n",
       "    <tr>\n",
       "      <th>0</th>\n",
       "      <td>https://www.google.com</td>\n",
       "      <td>benign</td>\n",
       "      <td>[https, www, google, com]</td>\n",
       "      <td>[https, www, googl, com]</td>\n",
       "      <td>https www googl com</td>\n",
       "    </tr>\n",
       "    <tr>\n",
       "      <th>1</th>\n",
       "      <td>https://www.youtube.com</td>\n",
       "      <td>benign</td>\n",
       "      <td>[https, www, youtube, com]</td>\n",
       "      <td>[https, www, youtub, com]</td>\n",
       "      <td>https www youtub com</td>\n",
       "    </tr>\n",
       "    <tr>\n",
       "      <th>2</th>\n",
       "      <td>https://www.facebook.com</td>\n",
       "      <td>benign</td>\n",
       "      <td>[https, www, facebook, com]</td>\n",
       "      <td>[https, www, facebook, com]</td>\n",
       "      <td>https www facebook com</td>\n",
       "    </tr>\n",
       "    <tr>\n",
       "      <th>3</th>\n",
       "      <td>https://www.baidu.com</td>\n",
       "      <td>benign</td>\n",
       "      <td>[https, www, baidu, com]</td>\n",
       "      <td>[https, www, baidu, com]</td>\n",
       "      <td>https www baidu com</td>\n",
       "    </tr>\n",
       "    <tr>\n",
       "      <th>4</th>\n",
       "      <td>https://www.wikipedia.org</td>\n",
       "      <td>benign</td>\n",
       "      <td>[https, www, wikipedia, org]</td>\n",
       "      <td>[https, www, wikipedia, org]</td>\n",
       "      <td>https www wikipedia org</td>\n",
       "    </tr>\n",
       "  </tbody>\n",
       "</table>\n",
       "</div>"
      ],
      "text/plain": [
       "                         url   label                text_tokenized  \\\n",
       "0     https://www.google.com  benign     [https, www, google, com]   \n",
       "1    https://www.youtube.com  benign    [https, www, youtube, com]   \n",
       "2   https://www.facebook.com  benign   [https, www, facebook, com]   \n",
       "3      https://www.baidu.com  benign      [https, www, baidu, com]   \n",
       "4  https://www.wikipedia.org  benign  [https, www, wikipedia, org]   \n",
       "\n",
       "                   text_stemmed                text_sent  \n",
       "0      [https, www, googl, com]      https www googl com  \n",
       "1     [https, www, youtub, com]     https www youtub com  \n",
       "2   [https, www, facebook, com]   https www facebook com  \n",
       "3      [https, www, baidu, com]      https www baidu com  \n",
       "4  [https, www, wikipedia, org]  https www wikipedia org  "
      ]
     },
     "execution_count": 19,
     "metadata": {},
     "output_type": "execute_result"
    }
   ],
   "source": [
    "good_sites.head()"
   ]
  },
  {
   "cell_type": "code",
   "execution_count": 20,
   "id": "0e4872eb",
   "metadata": {},
   "outputs": [
    {
     "data": {
      "text/html": [
       "<div>\n",
       "<style scoped>\n",
       "    .dataframe tbody tr th:only-of-type {\n",
       "        vertical-align: middle;\n",
       "    }\n",
       "\n",
       "    .dataframe tbody tr th {\n",
       "        vertical-align: top;\n",
       "    }\n",
       "\n",
       "    .dataframe thead th {\n",
       "        text-align: right;\n",
       "    }\n",
       "</style>\n",
       "<table border=\"1\" class=\"dataframe\">\n",
       "  <thead>\n",
       "    <tr style=\"text-align: right;\">\n",
       "      <th></th>\n",
       "      <th>url</th>\n",
       "      <th>label</th>\n",
       "      <th>text_tokenized</th>\n",
       "      <th>text_stemmed</th>\n",
       "      <th>text_sent</th>\n",
       "    </tr>\n",
       "  </thead>\n",
       "  <tbody>\n",
       "    <tr>\n",
       "      <th>0</th>\n",
       "      <td>https://www.google.com</td>\n",
       "      <td>benign</td>\n",
       "      <td>[https, www, google, com]</td>\n",
       "      <td>[https, www, googl, com]</td>\n",
       "      <td>https www googl com</td>\n",
       "    </tr>\n",
       "    <tr>\n",
       "      <th>1</th>\n",
       "      <td>https://www.youtube.com</td>\n",
       "      <td>benign</td>\n",
       "      <td>[https, www, youtube, com]</td>\n",
       "      <td>[https, www, youtub, com]</td>\n",
       "      <td>https www youtub com</td>\n",
       "    </tr>\n",
       "    <tr>\n",
       "      <th>2</th>\n",
       "      <td>https://www.facebook.com</td>\n",
       "      <td>benign</td>\n",
       "      <td>[https, www, facebook, com]</td>\n",
       "      <td>[https, www, facebook, com]</td>\n",
       "      <td>https www facebook com</td>\n",
       "    </tr>\n",
       "    <tr>\n",
       "      <th>3</th>\n",
       "      <td>https://www.baidu.com</td>\n",
       "      <td>benign</td>\n",
       "      <td>[https, www, baidu, com]</td>\n",
       "      <td>[https, www, baidu, com]</td>\n",
       "      <td>https www baidu com</td>\n",
       "    </tr>\n",
       "    <tr>\n",
       "      <th>4</th>\n",
       "      <td>https://www.wikipedia.org</td>\n",
       "      <td>benign</td>\n",
       "      <td>[https, www, wikipedia, org]</td>\n",
       "      <td>[https, www, wikipedia, org]</td>\n",
       "      <td>https www wikipedia org</td>\n",
       "    </tr>\n",
       "  </tbody>\n",
       "</table>\n",
       "</div>"
      ],
      "text/plain": [
       "                         url   label                text_tokenized  \\\n",
       "0     https://www.google.com  benign     [https, www, google, com]   \n",
       "1    https://www.youtube.com  benign    [https, www, youtube, com]   \n",
       "2   https://www.facebook.com  benign   [https, www, facebook, com]   \n",
       "3      https://www.baidu.com  benign      [https, www, baidu, com]   \n",
       "4  https://www.wikipedia.org  benign  [https, www, wikipedia, org]   \n",
       "\n",
       "                   text_stemmed                text_sent  \n",
       "0      [https, www, googl, com]      https www googl com  \n",
       "1     [https, www, youtub, com]     https www youtub com  \n",
       "2   [https, www, facebook, com]   https www facebook com  \n",
       "3      [https, www, baidu, com]      https www baidu com  \n",
       "4  [https, www, wikipedia, org]  https www wikipedia org  "
      ]
     },
     "execution_count": 20,
     "metadata": {},
     "output_type": "execute_result"
    }
   ],
   "source": [
    "df.head()"
   ]
  },
  {
   "cell_type": "markdown",
   "id": "f962e546",
   "metadata": {},
   "source": [
    "# Creating a machine learning model\n",
    "# Using CountVectorizer to convert text data into a matrix of token counts"
   ]
  },
  {
   "cell_type": "code",
   "execution_count": 21,
   "id": "2f8708ac",
   "metadata": {},
   "outputs": [],
   "source": [
    "cv = CountVectorizer()"
   ]
  },
  {
   "cell_type": "code",
   "execution_count": 22,
   "id": "151927c5",
   "metadata": {},
   "outputs": [],
   "source": [
    "feature = cv.fit_transform(df.text_sent) #transform all text which we tokenize and stemed"
   ]
  },
  {
   "cell_type": "code",
   "execution_count": 23,
   "id": "8e170522",
   "metadata": {},
   "outputs": [
    {
     "data": {
      "text/plain": [
       "array([[0, 0, 0, ..., 0, 0, 0],\n",
       "       [0, 0, 0, ..., 0, 0, 0],\n",
       "       [0, 0, 0, ..., 0, 0, 0],\n",
       "       [0, 0, 0, ..., 0, 0, 0],\n",
       "       [0, 0, 0, ..., 0, 0, 0]], dtype=int64)"
      ]
     },
     "execution_count": 23,
     "metadata": {},
     "output_type": "execute_result"
    }
   ],
   "source": [
    "feature[:5].toarray() # convert sparse matrix into array to print transformed features"
   ]
  },
  {
   "cell_type": "code",
   "execution_count": 24,
   "id": "96c8c1cb",
   "metadata": {},
   "outputs": [],
   "source": [
    "# Splitting the dataset into training and testing sets\n",
    "from sklearn.model_selection import train_test_split"
   ]
  },
  {
   "cell_type": "code",
   "execution_count": 25,
   "id": "2157df18",
   "metadata": {},
   "outputs": [],
   "source": [
    "trainX, testX, trainY, testY = train_test_split(feature, df.label, test_size = 0.3)"
   ]
  },
  {
   "cell_type": "code",
   "execution_count": 26,
   "id": "ae913474",
   "metadata": {},
   "outputs": [],
   "source": [
    "# Training a Logistic Regression model\n",
    "from sklearn.linear_model import LogisticRegression\n",
    "from sklearn.ensemble import RandomForestClassifier"
   ]
  },
  {
   "cell_type": "code",
   "execution_count": 27,
   "id": "6dd13355",
   "metadata": {},
   "outputs": [
    {
     "name": "stderr",
     "output_type": "stream",
     "text": [
      "C:\\Users\\Manav Patel\\anaconda3\\lib\\site-packages\\sklearn\\linear_model\\_logistic.py:458: ConvergenceWarning: lbfgs failed to converge (status=1):\n",
      "STOP: TOTAL NO. of ITERATIONS REACHED LIMIT.\n",
      "\n",
      "Increase the number of iterations (max_iter) or scale the data as shown in:\n",
      "    https://scikit-learn.org/stable/modules/preprocessing.html\n",
      "Please also refer to the documentation for alternative solver options:\n",
      "    https://scikit-learn.org/stable/modules/linear_model.html#logistic-regression\n",
      "  n_iter_i = _check_optimize_result(\n"
     ]
    },
    {
     "data": {
      "text/html": [
       "<style>#sk-container-id-1 {color: black;background-color: white;}#sk-container-id-1 pre{padding: 0;}#sk-container-id-1 div.sk-toggleable {background-color: white;}#sk-container-id-1 label.sk-toggleable__label {cursor: pointer;display: block;width: 100%;margin-bottom: 0;padding: 0.3em;box-sizing: border-box;text-align: center;}#sk-container-id-1 label.sk-toggleable__label-arrow:before {content: \"▸\";float: left;margin-right: 0.25em;color: #696969;}#sk-container-id-1 label.sk-toggleable__label-arrow:hover:before {color: black;}#sk-container-id-1 div.sk-estimator:hover label.sk-toggleable__label-arrow:before {color: black;}#sk-container-id-1 div.sk-toggleable__content {max-height: 0;max-width: 0;overflow: hidden;text-align: left;background-color: #f0f8ff;}#sk-container-id-1 div.sk-toggleable__content pre {margin: 0.2em;color: black;border-radius: 0.25em;background-color: #f0f8ff;}#sk-container-id-1 input.sk-toggleable__control:checked~div.sk-toggleable__content {max-height: 200px;max-width: 100%;overflow: auto;}#sk-container-id-1 input.sk-toggleable__control:checked~label.sk-toggleable__label-arrow:before {content: \"▾\";}#sk-container-id-1 div.sk-estimator input.sk-toggleable__control:checked~label.sk-toggleable__label {background-color: #d4ebff;}#sk-container-id-1 div.sk-label input.sk-toggleable__control:checked~label.sk-toggleable__label {background-color: #d4ebff;}#sk-container-id-1 input.sk-hidden--visually {border: 0;clip: rect(1px 1px 1px 1px);clip: rect(1px, 1px, 1px, 1px);height: 1px;margin: -1px;overflow: hidden;padding: 0;position: absolute;width: 1px;}#sk-container-id-1 div.sk-estimator {font-family: monospace;background-color: #f0f8ff;border: 1px dotted black;border-radius: 0.25em;box-sizing: border-box;margin-bottom: 0.5em;}#sk-container-id-1 div.sk-estimator:hover {background-color: #d4ebff;}#sk-container-id-1 div.sk-parallel-item::after {content: \"\";width: 100%;border-bottom: 1px solid gray;flex-grow: 1;}#sk-container-id-1 div.sk-label:hover label.sk-toggleable__label {background-color: #d4ebff;}#sk-container-id-1 div.sk-serial::before {content: \"\";position: absolute;border-left: 1px solid gray;box-sizing: border-box;top: 0;bottom: 0;left: 50%;z-index: 0;}#sk-container-id-1 div.sk-serial {display: flex;flex-direction: column;align-items: center;background-color: white;padding-right: 0.2em;padding-left: 0.2em;position: relative;}#sk-container-id-1 div.sk-item {position: relative;z-index: 1;}#sk-container-id-1 div.sk-parallel {display: flex;align-items: stretch;justify-content: center;background-color: white;position: relative;}#sk-container-id-1 div.sk-item::before, #sk-container-id-1 div.sk-parallel-item::before {content: \"\";position: absolute;border-left: 1px solid gray;box-sizing: border-box;top: 0;bottom: 0;left: 50%;z-index: -1;}#sk-container-id-1 div.sk-parallel-item {display: flex;flex-direction: column;z-index: 1;position: relative;background-color: white;}#sk-container-id-1 div.sk-parallel-item:first-child::after {align-self: flex-end;width: 50%;}#sk-container-id-1 div.sk-parallel-item:last-child::after {align-self: flex-start;width: 50%;}#sk-container-id-1 div.sk-parallel-item:only-child::after {width: 0;}#sk-container-id-1 div.sk-dashed-wrapped {border: 1px dashed gray;margin: 0 0.4em 0.5em 0.4em;box-sizing: border-box;padding-bottom: 0.4em;background-color: white;}#sk-container-id-1 div.sk-label label {font-family: monospace;font-weight: bold;display: inline-block;line-height: 1.2em;}#sk-container-id-1 div.sk-label-container {text-align: center;}#sk-container-id-1 div.sk-container {/* jupyter's `normalize.less` sets `[hidden] { display: none; }` but bootstrap.min.css set `[hidden] { display: none !important; }` so we also need the `!important` here to be able to override the default hidden behavior on the sphinx rendered scikit-learn.org. See: https://github.com/scikit-learn/scikit-learn/issues/21755 */display: inline-block !important;position: relative;}#sk-container-id-1 div.sk-text-repr-fallback {display: none;}</style><div id=\"sk-container-id-1\" class=\"sk-top-container\"><div class=\"sk-text-repr-fallback\"><pre>LogisticRegression()</pre><b>In a Jupyter environment, please rerun this cell to show the HTML representation or trust the notebook. <br />On GitHub, the HTML representation is unable to render, please try loading this page with nbviewer.org.</b></div><div class=\"sk-container\" hidden><div class=\"sk-item\"><div class=\"sk-estimator sk-toggleable\"><input class=\"sk-toggleable__control sk-hidden--visually\" id=\"sk-estimator-id-1\" type=\"checkbox\" checked><label for=\"sk-estimator-id-1\" class=\"sk-toggleable__label sk-toggleable__label-arrow\">LogisticRegression</label><div class=\"sk-toggleable__content\"><pre>LogisticRegression()</pre></div></div></div></div></div>"
      ],
      "text/plain": [
       "LogisticRegression()"
      ]
     },
     "execution_count": 27,
     "metadata": {},
     "output_type": "execute_result"
    }
   ],
   "source": [
    "lr = LogisticRegression()\n",
    "lr.fit(trainX,trainY)"
   ]
  },
  {
   "cell_type": "code",
   "execution_count": 28,
   "id": "42939bc1",
   "metadata": {},
   "outputs": [
    {
     "data": {
      "text/plain": [
       "0.9973891304990976"
      ]
     },
     "execution_count": 28,
     "metadata": {},
     "output_type": "execute_result"
    }
   ],
   "source": [
    "# Calculating and displaying the accuracy of the Logistic Regression model on the test data\n",
    "lr.score(testX,testY)"
   ]
  },
  {
   "cell_type": "code",
   "execution_count": 29,
   "id": "756176da",
   "metadata": {},
   "outputs": [
    {
     "name": "stdout",
     "output_type": "stream",
     "text": [
      "Training Accuracy : 0.9985070132340123\n",
      "Testing Accuracy : 0.9973891304990976\n",
      "\n",
      "CLASSIFICATION REPORT\n",
      "\n",
      "              precision    recall  f1-score   support\n",
      "\n",
      "      benign       1.00      1.00      1.00    103958\n",
      "   malicious       0.99      0.99      0.99     31246\n",
      "\n",
      "    accuracy                           1.00    135204\n",
      "   macro avg       1.00      1.00      1.00    135204\n",
      "weighted avg       1.00      1.00      1.00    135204\n",
      "\n",
      "\n",
      "CONFUSION MATRIX\n"
     ]
    },
    {
     "data": {
      "text/plain": [
       "<AxesSubplot:>"
      ]
     },
     "execution_count": 29,
     "metadata": {},
     "output_type": "execute_result"
    },
    {
     "data": {
      "image/png": "[encoded data removed]",
      "text/plain": [
       "<Figure size 600x400 with 2 Axes>"
      ]
     },
     "metadata": {},
     "output_type": "display_data"
    }
   ],
   "source": [
    "# creating confusing matrix\n",
    "print('Training Accuracy :',lr.score(trainX,trainY))\n",
    "print('Testing Accuracy :',lr.score(testX,testY))\n",
    "\n",
    "con_mat = confusion_matrix(lr.predict(testX), testY)\n",
    "\n",
    "print('\\nCLASSIFICATION REPORT\\n')\n",
    "print(classification_report(lr.predict(testX), testY))\n",
    "\n",
    "print('\\nCONFUSION MATRIX')\n",
    "plt.figure(figsize= (6,4))\n",
    "sns.heatmap(con_mat, annot = True,fmt='d',cmap=\"YlGnBu\")"
   ]
  },
  {
   "cell_type": "code",
   "execution_count": 36,
   "id": "02284ae4",
   "metadata": {},
   "outputs": [
    {
     "data": {
      "image/png": "[encoded data removed]",
      "text/plain": [
       "<Figure size 800x600 with 1 Axes>"
      ]
     },
     "metadata": {},
     "output_type": "display_data"
    }
   ],
   "source": [
    "# Map labels to binary values\n",
    "testY_binary = testY.map({'benign': 0, 'malicious': 1})\n",
    "\n",
    "# Get predicted probabilities for the positive class\n",
    "probs = loaded_model.predict_proba(testX)[:, 1]\n",
    "\n",
    "# Calculate the false positive rate, true positive rate, and thresholds\n",
    "fpr, tpr, thresholds = roc_curve(testY_binary, probs)\n",
    "\n",
    "# Calculate the area under the ROC curve (AUC)\n",
    "roc_auc = auc(fpr, tpr)\n",
    "\n",
    "# Plot the ROC curve\n",
    "plt.figure(figsize=(8, 6))\n",
    "plt.plot(fpr, tpr, color='darkorange', lw=2, label='ROC curve (area = %0.2f)' % roc_auc)\n",
    "plt.plot([0, 1], [0, 1], color='navy', lw=2, linestyle='--')\n",
    "plt.xlabel('False Positive Rate')\n",
    "plt.ylabel('True Positive Rate')\n",
    "plt.title('Receiver Operating Characteristic (ROC)')\n",
    "plt.legend(loc=\"lower right\")\n",
    "plt.show()\n"
   ]
  },
  {
   "cell_type": "markdown",
   "id": "7bbe6ddd",
   "metadata": {},
   "source": [
    "#### The ROC curve in the image you provided has an AUC of 1.0, which is the perfect score. This means that the classifier is perfectly able to distinguish between positive and negative cases at all thresholds. In other words, it is able to correctly predict all positive cases and all negative cases."
   ]
  },
  {
   "cell_type": "code",
   "execution_count": 30,
   "id": "e7f86d07",
   "metadata": {},
   "outputs": [
    {
     "name": "stderr",
     "output_type": "stream",
     "text": [
      "C:\\Users\\Manav Patel\\anaconda3\\lib\\site-packages\\sklearn\\feature_extraction\\text.py:528: UserWarning: The parameter 'token_pattern' will not be used since 'tokenizer' is not None'\n",
      "  warnings.warn(\n",
      "C:\\Users\\Manav Patel\\anaconda3\\lib\\site-packages\\sklearn\\linear_model\\_logistic.py:458: ConvergenceWarning: lbfgs failed to converge (status=1):\n",
      "STOP: TOTAL NO. of ITERATIONS REACHED LIMIT.\n",
      "\n",
      "Increase the number of iterations (max_iter) or scale the data as shown in:\n",
      "    https://scikit-learn.org/stable/modules/preprocessing.html\n",
      "Please also refer to the documentation for alternative solver options:\n",
      "    https://scikit-learn.org/stable/modules/linear_model.html#logistic-regression\n",
      "  n_iter_i = _check_optimize_result(\n"
     ]
    },
    {
     "data": {
      "text/html": [
       "<style>#sk-container-id-2 {color: black;background-color: white;}#sk-container-id-2 pre{padding: 0;}#sk-container-id-2 div.sk-toggleable {background-color: white;}#sk-container-id-2 label.sk-toggleable__label {cursor: pointer;display: block;width: 100%;margin-bottom: 0;padding: 0.3em;box-sizing: border-box;text-align: center;}#sk-container-id-2 label.sk-toggleable__label-arrow:before {content: \"▸\";float: left;margin-right: 0.25em;color: #696969;}#sk-container-id-2 label.sk-toggleable__label-arrow:hover:before {color: black;}#sk-container-id-2 div.sk-estimator:hover label.sk-toggleable__label-arrow:before {color: black;}#sk-container-id-2 div.sk-toggleable__content {max-height: 0;max-width: 0;overflow: hidden;text-align: left;background-color: #f0f8ff;}#sk-container-id-2 div.sk-toggleable__content pre {margin: 0.2em;color: black;border-radius: 0.25em;background-color: #f0f8ff;}#sk-container-id-2 input.sk-toggleable__control:checked~div.sk-toggleable__content {max-height: 200px;max-width: 100%;overflow: auto;}#sk-container-id-2 input.sk-toggleable__control:checked~label.sk-toggleable__label-arrow:before {content: \"▾\";}#sk-container-id-2 div.sk-estimator input.sk-toggleable__control:checked~label.sk-toggleable__label {background-color: #d4ebff;}#sk-container-id-2 div.sk-label input.sk-toggleable__control:checked~label.sk-toggleable__label {background-color: #d4ebff;}#sk-container-id-2 input.sk-hidden--visually {border: 0;clip: rect(1px 1px 1px 1px);clip: rect(1px, 1px, 1px, 1px);height: 1px;margin: -1px;overflow: hidden;padding: 0;position: absolute;width: 1px;}#sk-container-id-2 div.sk-estimator {font-family: monospace;background-color: #f0f8ff;border: 1px dotted black;border-radius: 0.25em;box-sizing: border-box;margin-bottom: 0.5em;}#sk-container-id-2 div.sk-estimator:hover {background-color: #d4ebff;}#sk-container-id-2 div.sk-parallel-item::after {content: \"\";width: 100%;border-bottom: 1px solid gray;flex-grow: 1;}#sk-container-id-2 div.sk-label:hover label.sk-toggleable__label {background-color: #d4ebff;}#sk-container-id-2 div.sk-serial::before {content: \"\";position: absolute;border-left: 1px solid gray;box-sizing: border-box;top: 0;bottom: 0;left: 50%;z-index: 0;}#sk-container-id-2 div.sk-serial {display: flex;flex-direction: column;align-items: center;background-color: white;padding-right: 0.2em;padding-left: 0.2em;position: relative;}#sk-container-id-2 div.sk-item {position: relative;z-index: 1;}#sk-container-id-2 div.sk-parallel {display: flex;align-items: stretch;justify-content: center;background-color: white;position: relative;}#sk-container-id-2 div.sk-item::before, #sk-container-id-2 div.sk-parallel-item::before {content: \"\";position: absolute;border-left: 1px solid gray;box-sizing: border-box;top: 0;bottom: 0;left: 50%;z-index: -1;}#sk-container-id-2 div.sk-parallel-item {display: flex;flex-direction: column;z-index: 1;position: relative;background-color: white;}#sk-container-id-2 div.sk-parallel-item:first-child::after {align-self: flex-end;width: 50%;}#sk-container-id-2 div.sk-parallel-item:last-child::after {align-self: flex-start;width: 50%;}#sk-container-id-2 div.sk-parallel-item:only-child::after {width: 0;}#sk-container-id-2 div.sk-dashed-wrapped {border: 1px dashed gray;margin: 0 0.4em 0.5em 0.4em;box-sizing: border-box;padding-bottom: 0.4em;background-color: white;}#sk-container-id-2 div.sk-label label {font-family: monospace;font-weight: bold;display: inline-block;line-height: 1.2em;}#sk-container-id-2 div.sk-label-container {text-align: center;}#sk-container-id-2 div.sk-container {/* jupyter's `normalize.less` sets `[hidden] { display: none; }` but bootstrap.min.css set `[hidden] { display: none !important; }` so we also need the `!important` here to be able to override the default hidden behavior on the sphinx rendered scikit-learn.org. See: https://github.com/scikit-learn/scikit-learn/issues/21755 */display: inline-block !important;position: relative;}#sk-container-id-2 div.sk-text-repr-fallback {display: none;}</style><div id=\"sk-container-id-2\" class=\"sk-top-container\"><div class=\"sk-text-repr-fallback\"><pre>Pipeline(steps=[(&#x27;countvectorizer&#x27;,\n",
       "                 CountVectorizer(stop_words=&#x27;english&#x27;,\n",
       "                                 tokenizer=&lt;bound method RegexpTokenizer.tokenize of RegexpTokenizer(pattern=&#x27;[A-Za-z]+&#x27;, gaps=False, discard_empty=True, flags=re.UNICODE|re.MULTILINE|re.DOTALL)&gt;)),\n",
       "                (&#x27;logisticregression&#x27;, LogisticRegression())])</pre><b>In a Jupyter environment, please rerun this cell to show the HTML representation or trust the notebook. <br />On GitHub, the HTML representation is unable to render, please try loading this page with nbviewer.org.</b></div><div class=\"sk-container\" hidden><div class=\"sk-item sk-dashed-wrapped\"><div class=\"sk-label-container\"><div class=\"sk-label sk-toggleable\"><input class=\"sk-toggleable__control sk-hidden--visually\" id=\"sk-estimator-id-2\" type=\"checkbox\" ><label for=\"sk-estimator-id-2\" class=\"sk-toggleable__label sk-toggleable__label-arrow\">Pipeline</label><div class=\"sk-toggleable__content\"><pre>Pipeline(steps=[(&#x27;countvectorizer&#x27;,\n",
       "                 CountVectorizer(stop_words=&#x27;english&#x27;,\n",
       "                                 tokenizer=&lt;bound method RegexpTokenizer.tokenize of RegexpTokenizer(pattern=&#x27;[A-Za-z]+&#x27;, gaps=False, discard_empty=True, flags=re.UNICODE|re.MULTILINE|re.DOTALL)&gt;)),\n",
       "                (&#x27;logisticregression&#x27;, LogisticRegression())])</pre></div></div></div><div class=\"sk-serial\"><div class=\"sk-item\"><div class=\"sk-estimator sk-toggleable\"><input class=\"sk-toggleable__control sk-hidden--visually\" id=\"sk-estimator-id-3\" type=\"checkbox\" ><label for=\"sk-estimator-id-3\" class=\"sk-toggleable__label sk-toggleable__label-arrow\">CountVectorizer</label><div class=\"sk-toggleable__content\"><pre>CountVectorizer(stop_words=&#x27;english&#x27;,\n",
       "                tokenizer=&lt;bound method RegexpTokenizer.tokenize of RegexpTokenizer(pattern=&#x27;[A-Za-z]+&#x27;, gaps=False, discard_empty=True, flags=re.UNICODE|re.MULTILINE|re.DOTALL)&gt;)</pre></div></div></div><div class=\"sk-item\"><div class=\"sk-estimator sk-toggleable\"><input class=\"sk-toggleable__control sk-hidden--visually\" id=\"sk-estimator-id-4\" type=\"checkbox\" ><label for=\"sk-estimator-id-4\" class=\"sk-toggleable__label sk-toggleable__label-arrow\">LogisticRegression</label><div class=\"sk-toggleable__content\"><pre>LogisticRegression()</pre></div></div></div></div></div></div></div>"
      ],
      "text/plain": [
       "Pipeline(steps=[('countvectorizer',\n",
       "                 CountVectorizer(stop_words='english',\n",
       "                                 tokenizer=<bound method RegexpTokenizer.tokenize of RegexpTokenizer(pattern='[A-Za-z]+', gaps=False, discard_empty=True, flags=re.UNICODE|re.MULTILINE|re.DOTALL)>)),\n",
       "                ('logisticregression', LogisticRegression())])"
      ]
     },
     "execution_count": 30,
     "metadata": {},
     "output_type": "execute_result"
    }
   ],
   "source": [
    "# Logistic Regression is the best-fit model, creating a sklearn pipeline using Logistic Regression\n",
    "pipeline_ls = make_pipeline(CountVectorizer(tokenizer=RegexpTokenizer(r'[A-Za-z]+').tokenize, stop_words='english'),\n",
    "                            LogisticRegression())\n",
    "\n",
    "trainX, testX, trainY, testY = train_test_split(df.url, df.label, test_size=30)\n",
    "\n",
    "pipeline_ls.fit(trainX, trainY)"
   ]
  },
  {
   "cell_type": "markdown",
   "id": "a62cac62",
   "metadata": {},
   "source": [
    "# Dump the model in pickle File"
   ]
  },
  {
   "cell_type": "code",
   "execution_count": 31,
   "id": "4f010b67",
   "metadata": {},
   "outputs": [],
   "source": [
    "pickle.dump(pipeline_ls,open('phish.pkl','wb'))"
   ]
  },
  {
   "cell_type": "code",
   "execution_count": 32,
   "id": "801b8bad",
   "metadata": {},
   "outputs": [],
   "source": [
    "import pickle\n",
    "\n",
    "# Load the saved model\n",
    "loaded_model = pickle.load(open('phish.pkl', 'rb'))"
   ]
  },
  {
   "cell_type": "code",
   "execution_count": 33,
   "id": "fd9dd110",
   "metadata": {},
   "outputs": [],
   "source": [
    "from nltk.tokenize import RegexpTokenizer\n",
    "from nltk.stem.snowball import SnowballStemmer\n",
    "\n",
    "# Define tokenizer and stemmer\n",
    "tokenizer = RegexpTokenizer(r'[A-Za-z]+')\n",
    "stemmer = SnowballStemmer(\"english\")\n",
    "\n",
    "# Tokenize the new URL\n",
    "new_url = \"https://bard.google.com/chat\"\n",
    "new_url_tokens = tokenizer.tokenize(new_url)\n",
    "\n",
    "# Stem the tokens\n",
    "new_url_stemmed = [stemmer.stem(word) for word in new_url_tokens]\n",
    "\n",
    "# Join the stemmed tokens back into a single string\n",
    "new_url_sent = ' '.join(new_url_stemmed)"
   ]
  },
  {
   "cell_type": "code",
   "execution_count": 34,
   "id": "ecf8d1ef",
   "metadata": {},
   "outputs": [
    {
     "name": "stdout",
     "output_type": "stream",
     "text": [
      "Predicted Label: ['benign']\n"
     ]
    }
   ],
   "source": [
    "# Make a prediction\n",
    "prediction = loaded_model.predict([new_url_sent])\n",
    "\n",
    "# The 'prediction' variable now contains the predicted label ('malicious' or 'benign')\n",
    "print(\"Predicted Label:\", prediction)"
   ]
  }
 ],
 "metadata": {
  "kernelspec": {
   "display_name": "Python 3 (ipykernel)",
   "language": "python",
   "name": "python3"
  },
  "language_info": {
   "codemirror_mode": {
    "name": "ipython",
    "version": 3
   },
   "file_extension": ".py",
   "mimetype": "text/x-python",
   "name": "python",
   "nbconvert_exporter": "python",
   "pygments_lexer": "ipython3",
   "version": "3.10.9"
  },
  "varInspector": {
   "cols": {
    "lenName": 16,
    "lenType": 16,
    "lenVar": 40
   },
   "kernels_config": {
    "python": {
     "delete_cmd_postfix": "",
     "delete_cmd_prefix": "del ",
     "library": "var_list.py",
     "varRefreshCmd": "print(var_dic_list())"
    },
    "r": {
     "delete_cmd_postfix": ") ",
     "delete_cmd_prefix": "rm(",
     "library": "var_list.r",
     "varRefreshCmd": "cat(var_dic_list()) "
    }
   },
   "types_to_exclude": [
    "module",
    "function",
    "builtin_function_or_method",
    "instance",
    "_Feature"
   ],
   "window_display": false
  }
 },
 "nbformat": 4,
 "nbformat_minor": 5
}
